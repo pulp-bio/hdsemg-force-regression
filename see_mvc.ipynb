{
 "cells": [
  {
   "cell_type": "code",
   "execution_count": 24,
   "metadata": {},
   "outputs": [],
   "source": [
    "from __future__ import annotations\n",
    "\n",
    "import numpy as np\n",
    "\n",
    "from hdsemg_force_regression.hyser import hyser as hy\n",
    "from hdsemg_force_regression.hyser import mvc as hymvc"
   ]
  },
  {
   "cell_type": "code",
   "execution_count": 2,
   "metadata": {},
   "outputs": [
    {
     "name": "stdout",
     "output_type": "stream",
     "text": [
      "\n",
      "Time taken for extracting all MVCs: 0.485s\n",
      "\n"
     ]
    }
   ],
   "source": [
    "mvc_v_dict = hymvc.extract_all_mvcs(verbose=True, show_plots=False)"
   ]
  },
  {
   "cell_type": "code",
   "execution_count": 60,
   "metadata": {},
   "outputs": [
    {
     "name": "stdout",
     "output_type": "stream",
     "text": [
      "0.66119826\n",
      "0.5180564\n",
      "----\n",
      "0.59\n",
      "0.072\n"
     ]
    }
   ],
   "source": [
    "def geom_mean(\n",
    "        x: np.array[np.float32],\n",
    "):\n",
    "    x = x.squeeze()\n",
    "    assert len(x.shape) == 1\n",
    "\n",
    "    n = len(x)\n",
    "    prod_x = x.prod()    \n",
    "    m = prod_x ** (1.0 / n)\n",
    "\n",
    "    return m\n",
    "\n",
    "\n",
    "means = []\n",
    "\n",
    "for idx_subj in [0]:  # , 1, 2, 3, 4, 5, 6, 7, 8, 9, 10, 11, 12, 13, 14, 15, 16, 17, 18, 19]:\n",
    "    for idx_sess in [0, 1]:\n",
    "\n",
    "        #print(f\"\\nsession: {idx_sess:d}\\n\")\n",
    "        \n",
    "        for fd in hy.ForceDirection:  # \"fd\" = \"finger direction\"\n",
    "\n",
    "            mvc_array = mvc_v_dict['subject'][idx_subj]['session'][idx_sess]['direction'][fd.value]\n",
    "\n",
    "            # print(mvc_array)\n",
    "\n",
    "            print(mvc_array[-1] / mvc_array[:-1].mean())\n",
    "\n",
    "            means.append(mvc_array[-1] / mvc_array[:-1].mean())\n",
    "            \n",
    "            # print((mvc_array[-1] / mvc_array[:-1]).mean())\n",
    "\n",
    "            # print(geom_mean(mvc_array[-1] / mvc_array[:-1]))\n",
    "\n",
    "means = np.array(means)\n",
    "print(\"----\")\n",
    "print(means.mean().round(3))\n",
    "print(means.std().round(3))"
   ]
  },
  {
   "cell_type": "code",
   "execution_count": 30,
   "metadata": {},
   "outputs": [
    {
     "data": {
      "text/plain": [
       "1.0"
      ]
     },
     "execution_count": 30,
     "metadata": {},
     "output_type": "execute_result"
    }
   ],
   "source": [
    "geom_mean(\n",
    "    np.array([0.25, 0.5, 1.0, 2.0, 4.0], dtype=np.float32)\n",
    ")"
   ]
  },
  {
   "cell_type": "code",
   "execution_count": 44,
   "metadata": {},
   "outputs": [
    {
     "data": {
      "text/plain": [
       "(54.75, 6.53356717268599)"
      ]
     },
     "execution_count": 44,
     "metadata": {},
     "output_type": "execute_result"
    }
   ],
   "source": [
    "np.array([50, 52, 66, 51]).mean(), np.array([50, 52, 66, 51]).std()"
   ]
  },
  {
   "cell_type": "code",
   "execution_count": null,
   "metadata": {},
   "outputs": [],
   "source": []
  }
 ],
 "metadata": {
  "kernelspec": {
   "display_name": "base",
   "language": "python",
   "name": "python3"
  },
  "language_info": {
   "codemirror_mode": {
    "name": "ipython",
    "version": 3
   },
   "file_extension": ".py",
   "mimetype": "text/x-python",
   "name": "python",
   "nbconvert_exporter": "python",
   "pygments_lexer": "ipython3",
   "version": "3.8.17"
  }
 },
 "nbformat": 4,
 "nbformat_minor": 2
}
