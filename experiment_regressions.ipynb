{
 "cells": [
  {
   "cell_type": "code",
   "execution_count": null,
   "metadata": {},
   "outputs": [],
   "source": [
    "import numpy as np\n",
    "\n",
    "from hdsemg_force_regression.hyser import hyser as hy\n",
    "from hdsemg_force_regression.protocol import protocol"
   ]
  },
  {
   "cell_type": "code",
   "execution_count": null,
   "metadata": {},
   "outputs": [],
   "source": [
    "# LIF\n",
    "\n",
    "# --------------------------------------------------------------------------- #\n",
    "GAIN_PER_VOLT_LIST = [\n",
    "    05.0, 10.0, 15.0, 20.0, 25.0, 30.0, 35.0, 40.0, 45.0, 50.0, 55.0, 60.0,\n",
    "]\n",
    "# --------------------------------------------------------------------------- #\n",
    "\n",
    "X_INIT = 0.0\n",
    "X_RESET = 0.5  # 0.5      # Kubanek: 0.5 (i.e., -65.0mV in his units)\n",
    "TAUPRE_S = 0.010      # Kubanek: 10ms\n",
    "TREFR_S = 0.002    # Kubanek:  2ms; Elisa: do not go above 2ms.\n",
    "# ADD THE OPTIMAL VALUES I FOUND IN THE IWASI 2023 PAPER\n",
    "TAUPOST_S = 0.250  # 0.500\n",
    "\n",
    "# SIMULATION\n",
    "\n",
    "DT_SIM_S = 1.0 / hy.FS_HDSEMG\n",
    "DT_MONITORS_PRE_S = DT_SIM_S  # pre-synaptic\n",
    "DT_MONITORS_POST_S = 1.0 / hy.FS_FORCE  # DT_SIM_S  # post-synaptic\n",
    "REPORT_STDSTREAM = 'stdout'\n",
    "REPORT_PERIOD_S = 5.0\n",
    "\n",
    "# REGRESSION\n",
    "\n",
    "DOWNSAMP = 1\n",
    "ALPHA_LIST = [10.0**-1.5]"
   ]
  },
  {
   "cell_type": "code",
   "execution_count": 3,
   "metadata": {},
   "outputs": [
    {
     "name": "stdout",
     "output_type": "stream",
     "text": [
      "125. s (100%) simulated in 7s\n"
     ]
    }
   ],
   "source": [
    "# protocol.protocol_on_single_subject(idx_subject=0)\n",
    "\n",
    "for gain_per_volt in GAIN_PER_VOLT_LIST:\n",
    "\n",
    "    print(\"\\n--------------------------------------------------------------\\n\")\n",
    "    print(\"\\n--------------------------------------------------------------\\n\")\n",
    "    print(\"\\n--------------------------------------------------------------\\n\")\n",
    "    print(\"\\n--------------------------------------------------------------\\n\")\n",
    "    print(\"\\n\")\n",
    "    print(f\"\\nCURRENT GAIN:\\t{gain_per_volt :02.0f}/V\\n\")\n",
    "    print('\\n', gain_per_volt, '\\n')\n",
    "    print(\"\\n\")\n",
    "    print(\"\\n--------------------------------------------------------------\\n\")\n",
    "    print(\"\\n--------------------------------------------------------------\\n\")\n",
    "    print(\"\\n--------------------------------------------------------------\\n\")\n",
    "    print(\"\\n--------------------------------------------------------------\\n\")\n",
    "\n",
    "    # RESULTSFILE_PATH = \"./da_cancellare.pkl\"  # './results/results_Sept_02_aminus2_g6e1.pkl'\n",
    "    RESULTSFILE_PATH = f\"./test_amiddle_gain_{gain_per_volt :02.0f}.pkl\"\n",
    "\n",
    "    protocol.regression_experiment_on_every_subject(\n",
    "\n",
    "        results_dict_dst_filepath=RESULTSFILE_PATH,\n",
    "\n",
    "        gain_per_volt=gain_per_volt,\n",
    "        x_init=X_INIT,\n",
    "        x_reset=X_RESET,\n",
    "        taupre_s=TAUPRE_S,\n",
    "        trefr_s=TREFR_S,\n",
    "        taupost_s=TAUPOST_S,\n",
    "        dt_sim_s=DT_SIM_S,\n",
    "        dt_monitors_pre_s=DT_MONITORS_PRE_S,\n",
    "        dt_monitor_post_s=DT_MONITORS_POST_S,\n",
    "        report_stdstream=REPORT_STDSTREAM,\n",
    "        report_period_s=REPORT_PERIOD_S,\n",
    "\n",
    "        downsamp=DOWNSAMP,\n",
    "        alpha=0.1,  ######################## TEMPORARY ########################\n",
    "    )"
   ]
  },
  {
   "cell_type": "code",
   "execution_count": null,
   "metadata": {},
   "outputs": [],
   "source": []
  }
 ],
 "metadata": {
  "kernelspec": {
   "display_name": "base",
   "language": "python",
   "name": "python3"
  },
  "language_info": {
   "codemirror_mode": {
    "name": "ipython",
    "version": 3
   },
   "file_extension": ".py",
   "mimetype": "text/x-python",
   "name": "python",
   "nbconvert_exporter": "python",
   "pygments_lexer": "ipython3",
   "version": "3.8.17"
  },
  "orig_nbformat": 4
 },
 "nbformat": 4,
 "nbformat_minor": 2
}
